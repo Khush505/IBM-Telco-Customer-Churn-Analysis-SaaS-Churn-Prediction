{
 "cells": [
  {
   "cell_type": "code",
   "execution_count": 1,
   "id": "c5f80064",
   "metadata": {},
   "outputs": [
    {
     "ename": "AttributeError",
     "evalue": "module 'matplotlib.cm' has no attribute 'register_cmap'",
     "output_type": "error",
     "traceback": [
      "\u001b[1;31m---------------------------------------------------------------------------\u001b[0m",
      "\u001b[1;31mAttributeError\u001b[0m                            Traceback (most recent call last)",
      "\u001b[1;32m~\\AppData\\Local\\Temp\\ipykernel_17144\\2923267817.py\u001b[0m in \u001b[0;36m<module>\u001b[1;34m\u001b[0m\n\u001b[0;32m      3\u001b[0m \u001b[1;32mfrom\u001b[0m \u001b[0mdatetime\u001b[0m \u001b[1;32mimport\u001b[0m \u001b[0mtimedelta\u001b[0m\u001b[1;33m,\u001b[0m \u001b[0mdatetime\u001b[0m\u001b[1;33m\u001b[0m\u001b[1;33m\u001b[0m\u001b[0m\n\u001b[0;32m      4\u001b[0m \u001b[1;32mimport\u001b[0m \u001b[0mmatplotlib\u001b[0m\u001b[1;33m.\u001b[0m\u001b[0mpyplot\u001b[0m \u001b[1;32mas\u001b[0m \u001b[0mplt\u001b[0m\u001b[1;33m\u001b[0m\u001b[1;33m\u001b[0m\u001b[0m\n\u001b[1;32m----> 5\u001b[1;33m \u001b[1;32mimport\u001b[0m \u001b[0mseaborn\u001b[0m \u001b[1;32mas\u001b[0m \u001b[0msns\u001b[0m\u001b[1;33m\u001b[0m\u001b[1;33m\u001b[0m\u001b[0m\n\u001b[0m\u001b[0;32m      6\u001b[0m \u001b[1;33m\u001b[0m\u001b[0m\n\u001b[0;32m      7\u001b[0m \u001b[1;31m# Load the data\u001b[0m\u001b[1;33m\u001b[0m\u001b[1;33m\u001b[0m\u001b[0m\n",
      "\u001b[1;32mc:\\Users\\Admin1\\anaconda3\\lib\\site-packages\\seaborn\\__init__.py\u001b[0m in \u001b[0;36m<module>\u001b[1;34m\u001b[0m\n\u001b[0;32m      7\u001b[0m \u001b[1;32mfrom\u001b[0m \u001b[1;33m.\u001b[0m\u001b[0mcategorical\u001b[0m \u001b[1;32mimport\u001b[0m \u001b[1;33m*\u001b[0m  \u001b[1;31m# noqa: F401,F403\u001b[0m\u001b[1;33m\u001b[0m\u001b[1;33m\u001b[0m\u001b[0m\n\u001b[0;32m      8\u001b[0m \u001b[1;32mfrom\u001b[0m \u001b[1;33m.\u001b[0m\u001b[0mdistributions\u001b[0m \u001b[1;32mimport\u001b[0m \u001b[1;33m*\u001b[0m  \u001b[1;31m# noqa: F401,F403\u001b[0m\u001b[1;33m\u001b[0m\u001b[1;33m\u001b[0m\u001b[0m\n\u001b[1;32m----> 9\u001b[1;33m \u001b[1;32mfrom\u001b[0m \u001b[1;33m.\u001b[0m\u001b[0mmatrix\u001b[0m \u001b[1;32mimport\u001b[0m \u001b[1;33m*\u001b[0m  \u001b[1;31m# noqa: F401,F403\u001b[0m\u001b[1;33m\u001b[0m\u001b[1;33m\u001b[0m\u001b[0m\n\u001b[0m\u001b[0;32m     10\u001b[0m \u001b[1;32mfrom\u001b[0m \u001b[1;33m.\u001b[0m\u001b[0mmiscplot\u001b[0m \u001b[1;32mimport\u001b[0m \u001b[1;33m*\u001b[0m  \u001b[1;31m# noqa: F401,F403\u001b[0m\u001b[1;33m\u001b[0m\u001b[1;33m\u001b[0m\u001b[0m\n\u001b[0;32m     11\u001b[0m \u001b[1;32mfrom\u001b[0m \u001b[1;33m.\u001b[0m\u001b[0maxisgrid\u001b[0m \u001b[1;32mimport\u001b[0m \u001b[1;33m*\u001b[0m  \u001b[1;31m# noqa: F401,F403\u001b[0m\u001b[1;33m\u001b[0m\u001b[1;33m\u001b[0m\u001b[0m\n",
      "\u001b[1;32mc:\\Users\\Admin1\\anaconda3\\lib\\site-packages\\seaborn\\matrix.py\u001b[0m in \u001b[0;36m<module>\u001b[1;34m\u001b[0m\n\u001b[0;32m     10\u001b[0m \u001b[1;32mfrom\u001b[0m \u001b[0mscipy\u001b[0m\u001b[1;33m.\u001b[0m\u001b[0mcluster\u001b[0m \u001b[1;32mimport\u001b[0m \u001b[0mhierarchy\u001b[0m\u001b[1;33m\u001b[0m\u001b[1;33m\u001b[0m\u001b[0m\n\u001b[0;32m     11\u001b[0m \u001b[1;33m\u001b[0m\u001b[0m\n\u001b[1;32m---> 12\u001b[1;33m \u001b[1;32mfrom\u001b[0m \u001b[1;33m.\u001b[0m \u001b[1;32mimport\u001b[0m \u001b[0mcm\u001b[0m\u001b[1;33m\u001b[0m\u001b[1;33m\u001b[0m\u001b[0m\n\u001b[0m\u001b[0;32m     13\u001b[0m \u001b[1;32mfrom\u001b[0m \u001b[1;33m.\u001b[0m\u001b[0maxisgrid\u001b[0m \u001b[1;32mimport\u001b[0m \u001b[0mGrid\u001b[0m\u001b[1;33m\u001b[0m\u001b[1;33m\u001b[0m\u001b[0m\n\u001b[0;32m     14\u001b[0m from .utils import (\n",
      "\u001b[1;32mc:\\Users\\Admin1\\anaconda3\\lib\\site-packages\\seaborn\\cm.py\u001b[0m in \u001b[0;36m<module>\u001b[1;34m\u001b[0m\n\u001b[0;32m   1580\u001b[0m     \u001b[0mlocals\u001b[0m\u001b[1;33m(\u001b[0m\u001b[1;33m)\u001b[0m\u001b[1;33m[\u001b[0m\u001b[0m_name\u001b[0m \u001b[1;33m+\u001b[0m \u001b[1;34m\"_r\"\u001b[0m\u001b[1;33m]\u001b[0m \u001b[1;33m=\u001b[0m \u001b[0m_cmap_r\u001b[0m\u001b[1;33m\u001b[0m\u001b[1;33m\u001b[0m\u001b[0m\n\u001b[0;32m   1581\u001b[0m \u001b[1;33m\u001b[0m\u001b[0m\n\u001b[1;32m-> 1582\u001b[1;33m     \u001b[0mmpl_cm\u001b[0m\u001b[1;33m.\u001b[0m\u001b[0mregister_cmap\u001b[0m\u001b[1;33m(\u001b[0m\u001b[0m_name\u001b[0m\u001b[1;33m,\u001b[0m \u001b[0m_cmap\u001b[0m\u001b[1;33m)\u001b[0m\u001b[1;33m\u001b[0m\u001b[1;33m\u001b[0m\u001b[0m\n\u001b[0m\u001b[0;32m   1583\u001b[0m     \u001b[0mmpl_cm\u001b[0m\u001b[1;33m.\u001b[0m\u001b[0mregister_cmap\u001b[0m\u001b[1;33m(\u001b[0m\u001b[0m_name\u001b[0m \u001b[1;33m+\u001b[0m \u001b[1;34m\"_r\"\u001b[0m\u001b[1;33m,\u001b[0m \u001b[0m_cmap_r\u001b[0m\u001b[1;33m)\u001b[0m\u001b[1;33m\u001b[0m\u001b[1;33m\u001b[0m\u001b[0m\n\u001b[0;32m   1584\u001b[0m \u001b[1;33m\u001b[0m\u001b[0m\n",
      "\u001b[1;31mAttributeError\u001b[0m: module 'matplotlib.cm' has no attribute 'register_cmap'"
     ]
    }
   ],
   "source": [
    "import pandas as pd\n",
    "import numpy as np\n",
    "from datetime import timedelta, datetime\n",
    "import matplotlib.pyplot as plt\n",
    "import seaborn as sns\n",
    "\n",
    "# Load the data\n",
    "df = pd.read_csv(\"googlepay_user_simulated.csv\")"
   ]
  },
  {
   "cell_type": "markdown",
   "id": "bdbad35a",
   "metadata": {},
   "source": [
    "Qs - How many users are one-time vs repeat users?\n",
    "\n",
    "why - Helps define the size of the churn problem. "
   ]
  },
  {
   "cell_type": "code",
   "execution_count": null,
   "id": "5808f772",
   "metadata": {},
   "outputs": [
    {
     "name": "stdout",
     "output_type": "stream",
     "text": [
      "One-time users: 506\n",
      "Repeat users: 494\n"
     ]
    }
   ],
   "source": [
    "# 1. One-time vs Repeat users\n",
    "one_time_users = df[df['num_txns'] == 1]\n",
    "repeat_users = df[df['num_txns'] > 1]\n",
    "print(\"One-time users:\", len(one_time_users))\n",
    "print(\"Repeat users:\", len(repeat_users))"
   ]
  },
  {
   "cell_type": "markdown",
   "id": "180fdfc2",
   "metadata": {},
   "source": [
    "Qs -  What % of users are retained after 30 days?\n",
    "\n",
    "why - Core KPI for retention"
   ]
  },
  {
   "cell_type": "code",
   "execution_count": null,
   "id": "390661a0",
   "metadata": {},
   "outputs": [
    {
     "name": "stdout",
     "output_type": "stream",
     "text": [
      "\n",
      "Retention rate:\n",
      " retained_30d\n",
      "No     50.6\n",
      "Yes    49.4\n",
      "Name: proportion, dtype: float64\n"
     ]
    }
   ],
   "source": [
    "# 2. Retention rate\n",
    "retention_rate = df['retained_30d'].value_counts(normalize=True) * 100\n",
    "print(\"\\nRetention rate:\\n\", retention_rate)\n"
   ]
  },
  {
   "cell_type": "markdown",
   "id": "230b5fcc",
   "metadata": {},
   "source": [
    "Qs - Do users who used offers churn less?\n",
    "\n",
    "why - Tests whether promotions actually help"
   ]
  },
  {
   "cell_type": "code",
   "execution_count": null,
   "id": "80d96224",
   "metadata": {},
   "outputs": [
    {
     "name": "stdout",
     "output_type": "stream",
     "text": [
      "\n",
      "Retention by offer:\n",
      " retained_30d         No        Yes\n",
      "used_offer                        \n",
      "No            55.181347  44.818653\n",
      "Yes           47.719870  52.280130\n"
     ]
    }
   ],
   "source": [
    "# 3. Retention by offer use\n",
    "retention_by_offer = pd.crosstab(df['used_offer'], df['retained_30d'], normalize='index') * 100\n",
    "print(\"\\nRetention by offer:\\n\", retention_by_offer)"
   ]
  },
  {
   "cell_type": "markdown",
   "id": "fb473a1d",
   "metadata": {},
   "source": [
    "Qs - Is retention better on Android or iOS?\n",
    "\n",
    "why - Helps product teams prioritize platforms"
   ]
  },
  {
   "cell_type": "code",
   "execution_count": null,
   "id": "d6252356",
   "metadata": {},
   "outputs": [
    {
     "name": "stdout",
     "output_type": "stream",
     "text": [
      "\n",
      "Retention by device:\n",
      " retained_30d         No        Yes\n",
      "device_os                         \n",
      "Android       50.972222  49.027778\n",
      "iOS           49.642857  50.357143\n"
     ]
    }
   ],
   "source": [
    "# 4. Retention by device\n",
    "retention_by_device = pd.crosstab(df['device_os'], df['retained_30d'], normalize='index') * 100\n",
    "print(\"\\nRetention by device:\\n\", retention_by_device)\n"
   ]
  },
  {
   "cell_type": "markdown",
   "id": "85c10378",
   "metadata": {},
   "source": [
    "Qs - What’s the avg transaction value by retention?\n",
    "\n",
    "why - Ties product use to revenue (LTV)\n"
   ]
  },
  {
   "cell_type": "code",
   "execution_count": null,
   "id": "a308685d",
   "metadata": {},
   "outputs": [
    {
     "name": "stdout",
     "output_type": "stream",
     "text": [
      "\n",
      "Avg transaction value:\n",
      " retained_30d\n",
      "No      303.427885\n",
      "Yes    1382.384474\n",
      "Name: total_txn_value, dtype: float64\n"
     ]
    }
   ],
   "source": [
    "# 5. Avg txn value by retention\n",
    "avg_value_by_retention = df.groupby('retained_30d')['total_txn_value'].mean()\n",
    "print(\"\\nAvg transaction value:\\n\", avg_value_by_retention)"
   ]
  },
  {
   "cell_type": "markdown",
   "id": "beb1c54f",
   "metadata": {},
   "source": [
    "Qs - When do most users churn (early signups, late)?\n",
    "\n",
    "why - Time-based patterns to design interventions\n"
   ]
  },
  {
   "cell_type": "code",
   "execution_count": null,
   "id": "ac64477d",
   "metadata": {},
   "outputs": [
    {
     "name": "stdout",
     "output_type": "stream",
     "text": [
      "\n",
      "Signup trend with retention:\n",
      " retained_30d         No        Yes\n",
      "signup_month                      \n",
      "2023-01       50.980392  49.019608\n",
      "2023-02       52.580645  47.419355\n",
      "2023-03       48.348348  51.651652\n"
     ]
    }
   ],
   "source": [
    "# 6. Signup patterns\n",
    "df['signup_month'] = pd.to_datetime(df['signup_date']).dt.to_period('M')\n",
    "signup_trend = df.groupby('signup_month')['retained_30d'].value_counts(normalize=True).unstack().fillna(0) * 100\n",
    "print(\"\\nSignup trend with retention:\\n\", signup_trend)\n"
   ]
  },
  {
   "cell_type": "code",
   "execution_count": null,
   "id": "43d76f3f",
   "metadata": {},
   "outputs": [
    {
     "data": {
      "image/png": "[encoded data removed]",
      "text/plain": [
       "<Figure size 640x480 with 2 Axes>"
      ]
     },
     "metadata": {},
     "output_type": "display_data"
    }
   ],
   "source": [
    "# Visualization - Retention by offer\n",
    "sns.heatmap(retention_by_offer, annot=True, cmap='coolwarm')\n",
    "plt.title(\"Retention by Offer Use\")\n",
    "plt.show()"
   ]
  },
  {
   "cell_type": "code",
   "execution_count": null,
   "id": "2c50a5c9",
   "metadata": {},
   "outputs": [],
   "source": []
  }
 ],
 "metadata": {
  "kernelspec": {
   "display_name": "Solar Env",
   "language": "python",
   "name": "solar_env"
  },
  "language_info": {
   "codemirror_mode": {
    "name": "ipython",
    "version": 3
   },
   "file_extension": ".py",
   "mimetype": "text/x-python",
   "name": "python",
   "nbconvert_exporter": "python",
   "pygments_lexer": "ipython3",
   "version": "3.9.13"
  }
 },
 "nbformat": 4,
 "nbformat_minor": 5
}
